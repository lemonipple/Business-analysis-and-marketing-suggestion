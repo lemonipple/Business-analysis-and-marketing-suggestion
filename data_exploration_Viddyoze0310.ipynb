{
 "cells": [
  {
   "cell_type": "code",
   "execution_count": 1,
   "metadata": {
    "collapsed": true
   },
   "outputs": [],
   "source": [
    "import numpy as np\n",
    "import pandas as pd"
   ]
  },
  {
   "cell_type": "code",
   "execution_count": 2,
   "metadata": {
    "collapsed": true
   },
   "outputs": [],
   "source": [
    "from sklearn.feature_extraction.text import CountVectorizer\n",
    "from sklearn.linear_model import LogisticRegression"
   ]
  },
  {
   "cell_type": "code",
   "execution_count": 2,
   "metadata": {
    "collapsed": false
   },
   "outputs": [
    {
     "name": "stderr",
     "output_type": "stream",
     "text": [
      "/Users/lemonipple/anaconda/lib/python3.6/site-packages/IPython/core/interactiveshell.py:2717: DtypeWarning: Columns (28,29,30) have mixed types. Specify dtype option on import or set low_memory=False.\n",
      "  interactivity=interactivity, compiler=compiler, result=result)\n"
     ]
    }
   ],
   "source": [
    "data1 = pd.read_csv('Viddyoze+Javascript+-+Page+Metadata+Bundled (1).csv')\n",
    "data2= pd.read_csv('Viddyoze+Javascript+-+Page.csv')\n",
    "data3= pd.read_csv('Viddyoze+Javascript+-+Identify+Metadata+Bundled.csv')"
   ]
  },
  {
   "cell_type": "code",
   "execution_count": 12,
   "metadata": {
    "collapsed": false
   },
   "outputs": [
    {
     "data": {
      "text/plain": [
       "(2627360, 9)"
      ]
     },
     "execution_count": 12,
     "metadata": {},
     "output_type": "execute_result"
    }
   ],
   "source": [
    "data1.shape"
   ]
  },
  {
   "cell_type": "code",
   "execution_count": 68,
   "metadata": {
    "collapsed": false
   },
   "outputs": [
    {
     "data": {
      "text/plain": [
       "(1546130, 33)"
      ]
     },
     "execution_count": 68,
     "metadata": {},
     "output_type": "execute_result"
    }
   ],
   "source": [
    "data2.shape"
   ]
  },
  {
   "cell_type": "code",
   "execution_count": 14,
   "metadata": {
    "collapsed": false
   },
   "outputs": [
    {
     "data": {
      "text/plain": [
       "(2502718, 9)"
      ]
     },
     "execution_count": 14,
     "metadata": {},
     "output_type": "execute_result"
    }
   ],
   "source": [
    "data3.shape"
   ]
  },
  {
   "cell_type": "code",
   "execution_count": 4,
   "metadata": {
    "collapsed": false,
    "scrolled": true
   },
   "outputs": [
    {
     "data": {
      "text/plain": [
       "_sdc_batched_at                    0\n",
       "_sdc_received_at                   0\n",
       "_sdc_sequence                      0\n",
       "_sdc_table_version                 0\n",
       "anonymous_id                       0\n",
       "channel                            0\n",
       "context__ip                        0\n",
       "context__library__name             0\n",
       "context__library__version          0\n",
       "context__page__path                0\n",
       "context__page__title               0\n",
       "dedupe_metadata__offset            0\n",
       "message_id                         0\n",
       "properties__path                   0\n",
       "properties__title                  0\n",
       "received_at                        0\n",
       "sent_at                            0\n",
       "timestamp                          0\n",
       "type                               0\n",
       "user_id                        75771\n",
       "version                            0\n",
       "properties__referrer           89174\n",
       "context__page__referrer        89174\n",
       "context__user_agent                0\n",
       "context__page__url                 0\n",
       "context__page__search        1532924\n",
       "properties__url                    0\n",
       "properties__search           1532924\n",
       "context__campaign__name      1546116\n",
       "context__campaign__medium    1546116\n",
       "context__campaign__source    1546116\n",
       "_BATCH_ID_                         0\n",
       "_BATCH_LAST_RUN_                   0\n",
       "dtype: int64"
      ]
     },
     "execution_count": 4,
     "metadata": {},
     "output_type": "execute_result"
    }
   ],
   "source": [
    "data2.isnull().sum()"
   ]
  },
  {
   "cell_type": "code",
   "execution_count": 5,
   "metadata": {
    "collapsed": false
   },
   "outputs": [
    {
     "data": {
      "text/html": [
       "<div>\n",
       "<table border=\"1\" class=\"dataframe\">\n",
       "  <thead>\n",
       "    <tr style=\"text-align: right;\">\n",
       "      <th></th>\n",
       "      <th>0</th>\n",
       "      <th>1</th>\n",
       "      <th>2</th>\n",
       "      <th>3</th>\n",
       "      <th>4</th>\n",
       "    </tr>\n",
       "  </thead>\n",
       "  <tbody>\n",
       "    <tr>\n",
       "      <th>_sdc_batched_at</th>\n",
       "      <td>2017-11-24 14:20:30</td>\n",
       "      <td>2017-11-24 14:20:30</td>\n",
       "      <td>2017-11-24 14:20:30</td>\n",
       "      <td>2017-11-24 14:20:30</td>\n",
       "      <td>2017-11-24 14:20:30</td>\n",
       "    </tr>\n",
       "    <tr>\n",
       "      <th>_sdc_received_at</th>\n",
       "      <td>2017-11-24 14:20:20</td>\n",
       "      <td>2017-11-24 14:19:01</td>\n",
       "      <td>2017-11-24 14:19:26</td>\n",
       "      <td>2017-11-24 14:19:29</td>\n",
       "      <td>2017-11-24 14:19:08</td>\n",
       "    </tr>\n",
       "    <tr>\n",
       "      <th>_sdc_sequence</th>\n",
       "      <td>1.51153e+12</td>\n",
       "      <td>1.51153e+12</td>\n",
       "      <td>1.51153e+12</td>\n",
       "      <td>1.51153e+12</td>\n",
       "      <td>1.51153e+12</td>\n",
       "    </tr>\n",
       "    <tr>\n",
       "      <th>_sdc_table_version</th>\n",
       "      <td>0</td>\n",
       "      <td>0</td>\n",
       "      <td>0</td>\n",
       "      <td>0</td>\n",
       "      <td>0</td>\n",
       "    </tr>\n",
       "    <tr>\n",
       "      <th>anonymous_id</th>\n",
       "      <td>2ae0ae08-f3e7-467a-8550-422f6f82683c</td>\n",
       "      <td>c4dc444c-0bee-42f3-9445-19187491b752</td>\n",
       "      <td>16a939fd-4629-4ac3-8130-26be07d5b44d</td>\n",
       "      <td>7262c800-4697-4a2b-a36b-6ec5850e90de</td>\n",
       "      <td>c4dc444c-0bee-42f3-9445-19187491b752</td>\n",
       "    </tr>\n",
       "    <tr>\n",
       "      <th>channel</th>\n",
       "      <td>client</td>\n",
       "      <td>client</td>\n",
       "      <td>client</td>\n",
       "      <td>client</td>\n",
       "      <td>client</td>\n",
       "    </tr>\n",
       "    <tr>\n",
       "      <th>context__ip</th>\n",
       "      <td>175.137.41.111</td>\n",
       "      <td>92.247.171.164</td>\n",
       "      <td>190.240.55.183</td>\n",
       "      <td>108.181.142.63</td>\n",
       "      <td>92.247.171.164</td>\n",
       "    </tr>\n",
       "    <tr>\n",
       "      <th>context__library__name</th>\n",
       "      <td>analytics.js</td>\n",
       "      <td>analytics.js</td>\n",
       "      <td>analytics.js</td>\n",
       "      <td>analytics.js</td>\n",
       "      <td>analytics.js</td>\n",
       "    </tr>\n",
       "    <tr>\n",
       "      <th>context__library__version</th>\n",
       "      <td>3.2.5</td>\n",
       "      <td>3.2.5</td>\n",
       "      <td>3.2.5</td>\n",
       "      <td>3.2.5</td>\n",
       "      <td>3.2.5</td>\n",
       "    </tr>\n",
       "    <tr>\n",
       "      <th>context__page__path</th>\n",
       "      <td>/member/templates/category/alpha</td>\n",
       "      <td>/member/templates/category/intro/4</td>\n",
       "      <td>/member/renders</td>\n",
       "      <td>/member/renders/1510507</td>\n",
       "      <td>/member/templates/category/intro/5</td>\n",
       "    </tr>\n",
       "    <tr>\n",
       "      <th>context__page__title</th>\n",
       "      <td>Viddyoze</td>\n",
       "      <td>Viddyoze</td>\n",
       "      <td>Viddyoze</td>\n",
       "      <td>Viddyoze</td>\n",
       "      <td>Viddyoze</td>\n",
       "    </tr>\n",
       "    <tr>\n",
       "      <th>dedupe_metadata__offset</th>\n",
       "      <td>7769852864</td>\n",
       "      <td>7770754230</td>\n",
       "      <td>7770797033</td>\n",
       "      <td>7769710211</td>\n",
       "      <td>7770006702</td>\n",
       "    </tr>\n",
       "    <tr>\n",
       "      <th>message_id</th>\n",
       "      <td>ajs-2ab2ca7d013a7a66ebf06d4dff023fe9</td>\n",
       "      <td>ajs-60dc031441265bcfa0ac22a2d6959682</td>\n",
       "      <td>ajs-9943baf0c796ce427e5710e84a51b300</td>\n",
       "      <td>ajs-a7ab959e6eca8d4a657e442f2fee6c90</td>\n",
       "      <td>ajs-bd534f234ab962c04fe88d33723fe493</td>\n",
       "    </tr>\n",
       "    <tr>\n",
       "      <th>properties__path</th>\n",
       "      <td>/member/templates/category/alpha</td>\n",
       "      <td>/member/templates/category/intro/4</td>\n",
       "      <td>/member/renders</td>\n",
       "      <td>/member/renders/1510507</td>\n",
       "      <td>/member/templates/category/intro/5</td>\n",
       "    </tr>\n",
       "    <tr>\n",
       "      <th>properties__title</th>\n",
       "      <td>Viddyoze</td>\n",
       "      <td>Viddyoze</td>\n",
       "      <td>Viddyoze</td>\n",
       "      <td>Viddyoze</td>\n",
       "      <td>Viddyoze</td>\n",
       "    </tr>\n",
       "    <tr>\n",
       "      <th>received_at</th>\n",
       "      <td>2017-11-24T14:20:19.318Z</td>\n",
       "      <td>2017-11-24T14:18:59.465Z</td>\n",
       "      <td>2017-11-24T14:19:24.726Z</td>\n",
       "      <td>2017-11-24T14:19:27.673Z</td>\n",
       "      <td>2017-11-24T14:19:06.798Z</td>\n",
       "    </tr>\n",
       "    <tr>\n",
       "      <th>sent_at</th>\n",
       "      <td>2017-11-24T14:20:16.601Z</td>\n",
       "      <td>2017-11-24T14:19:00.789Z</td>\n",
       "      <td>2017-11-24T14:19:23.769Z</td>\n",
       "      <td>2017-11-24T14:19:26.188Z</td>\n",
       "      <td>2017-11-24T14:19:08.126Z</td>\n",
       "    </tr>\n",
       "    <tr>\n",
       "      <th>timestamp</th>\n",
       "      <td>2017-11-24T14:20:19.317Z</td>\n",
       "      <td>2017-11-24T14:18:59.462Z</td>\n",
       "      <td>2017-11-24T14:19:24.722Z</td>\n",
       "      <td>2017-11-24T14:19:27.667Z</td>\n",
       "      <td>2017-11-24T14:19:06.797Z</td>\n",
       "    </tr>\n",
       "    <tr>\n",
       "      <th>type</th>\n",
       "      <td>page</td>\n",
       "      <td>page</td>\n",
       "      <td>page</td>\n",
       "      <td>page</td>\n",
       "      <td>page</td>\n",
       "    </tr>\n",
       "    <tr>\n",
       "      <th>user_id</th>\n",
       "      <td>20471</td>\n",
       "      <td>31296</td>\n",
       "      <td>18531</td>\n",
       "      <td>56492</td>\n",
       "      <td>31296</td>\n",
       "    </tr>\n",
       "    <tr>\n",
       "      <th>version</th>\n",
       "      <td>2</td>\n",
       "      <td>2</td>\n",
       "      <td>2</td>\n",
       "      <td>2</td>\n",
       "      <td>2</td>\n",
       "    </tr>\n",
       "    <tr>\n",
       "      <th>properties__referrer</th>\n",
       "      <td>https://app.viddyoze.com/member/templates/cate...</td>\n",
       "      <td>https://app.viddyoze.com/member/templates/cate...</td>\n",
       "      <td>https://app.viddyoze.com/member/renders/1510509</td>\n",
       "      <td>https://app.viddyoze.com/member/renders/1510507</td>\n",
       "      <td>https://app.viddyoze.com/member/templates/cate...</td>\n",
       "    </tr>\n",
       "    <tr>\n",
       "      <th>context__page__referrer</th>\n",
       "      <td>https://app.viddyoze.com/member/templates/cate...</td>\n",
       "      <td>https://app.viddyoze.com/member/templates/cate...</td>\n",
       "      <td>https://app.viddyoze.com/member/renders/1510509</td>\n",
       "      <td>https://app.viddyoze.com/member/renders/1510507</td>\n",
       "      <td>https://app.viddyoze.com/member/templates/cate...</td>\n",
       "    </tr>\n",
       "    <tr>\n",
       "      <th>context__user_agent</th>\n",
       "      <td>Mozilla/5.0 (Windows NT 10.0; Win64; x64) Appl...</td>\n",
       "      <td>Mozilla/5.0 (Windows NT 10.0; Win64; x64) Appl...</td>\n",
       "      <td>Mozilla/5.0 (Windows NT 10.0; Win64; x64) Appl...</td>\n",
       "      <td>Mozilla/5.0 (Windows NT 10.0; Win64; x64) Appl...</td>\n",
       "      <td>Mozilla/5.0 (Windows NT 10.0; Win64; x64) Appl...</td>\n",
       "    </tr>\n",
       "    <tr>\n",
       "      <th>context__page__url</th>\n",
       "      <td>https://app.viddyoze.com/member/templates/cate...</td>\n",
       "      <td>https://app.viddyoze.com/member/templates/cate...</td>\n",
       "      <td>https://app.viddyoze.com/member/renders</td>\n",
       "      <td>https://app.viddyoze.com/member/renders/1510507</td>\n",
       "      <td>https://app.viddyoze.com/member/templates/cate...</td>\n",
       "    </tr>\n",
       "    <tr>\n",
       "      <th>context__page__search</th>\n",
       "      <td>NaN</td>\n",
       "      <td>NaN</td>\n",
       "      <td>NaN</td>\n",
       "      <td>NaN</td>\n",
       "      <td>NaN</td>\n",
       "    </tr>\n",
       "    <tr>\n",
       "      <th>properties__url</th>\n",
       "      <td>https://app.viddyoze.com/member/templates/cate...</td>\n",
       "      <td>https://app.viddyoze.com/member/templates/cate...</td>\n",
       "      <td>https://app.viddyoze.com/member/renders</td>\n",
       "      <td>https://app.viddyoze.com/member/renders/1510507</td>\n",
       "      <td>https://app.viddyoze.com/member/templates/cate...</td>\n",
       "    </tr>\n",
       "    <tr>\n",
       "      <th>properties__search</th>\n",
       "      <td>NaN</td>\n",
       "      <td>NaN</td>\n",
       "      <td>NaN</td>\n",
       "      <td>NaN</td>\n",
       "      <td>NaN</td>\n",
       "    </tr>\n",
       "    <tr>\n",
       "      <th>context__campaign__name</th>\n",
       "      <td>NaN</td>\n",
       "      <td>NaN</td>\n",
       "      <td>NaN</td>\n",
       "      <td>NaN</td>\n",
       "      <td>NaN</td>\n",
       "    </tr>\n",
       "    <tr>\n",
       "      <th>context__campaign__medium</th>\n",
       "      <td>NaN</td>\n",
       "      <td>NaN</td>\n",
       "      <td>NaN</td>\n",
       "      <td>NaN</td>\n",
       "      <td>NaN</td>\n",
       "    </tr>\n",
       "    <tr>\n",
       "      <th>context__campaign__source</th>\n",
       "      <td>NaN</td>\n",
       "      <td>NaN</td>\n",
       "      <td>NaN</td>\n",
       "      <td>NaN</td>\n",
       "      <td>NaN</td>\n",
       "    </tr>\n",
       "    <tr>\n",
       "      <th>_BATCH_ID_</th>\n",
       "      <td>50</td>\n",
       "      <td>50</td>\n",
       "      <td>50</td>\n",
       "      <td>50</td>\n",
       "      <td>50</td>\n",
       "    </tr>\n",
       "    <tr>\n",
       "      <th>_BATCH_LAST_RUN_</th>\n",
       "      <td>2018-02-05 15:33:01</td>\n",
       "      <td>2018-02-05 15:33:01</td>\n",
       "      <td>2018-02-05 15:33:01</td>\n",
       "      <td>2018-02-05 15:33:01</td>\n",
       "      <td>2018-02-05 15:33:01</td>\n",
       "    </tr>\n",
       "  </tbody>\n",
       "</table>\n",
       "</div>"
      ],
      "text/plain": [
       "                                                                           0  \\\n",
       "_sdc_batched_at                                          2017-11-24 14:20:30   \n",
       "_sdc_received_at                                         2017-11-24 14:20:20   \n",
       "_sdc_sequence                                                    1.51153e+12   \n",
       "_sdc_table_version                                                         0   \n",
       "anonymous_id                            2ae0ae08-f3e7-467a-8550-422f6f82683c   \n",
       "channel                                                               client   \n",
       "context__ip                                                   175.137.41.111   \n",
       "context__library__name                                          analytics.js   \n",
       "context__library__version                                              3.2.5   \n",
       "context__page__path                         /member/templates/category/alpha   \n",
       "context__page__title                                                Viddyoze   \n",
       "dedupe_metadata__offset                                           7769852864   \n",
       "message_id                              ajs-2ab2ca7d013a7a66ebf06d4dff023fe9   \n",
       "properties__path                            /member/templates/category/alpha   \n",
       "properties__title                                                   Viddyoze   \n",
       "received_at                                         2017-11-24T14:20:19.318Z   \n",
       "sent_at                                             2017-11-24T14:20:16.601Z   \n",
       "timestamp                                           2017-11-24T14:20:19.317Z   \n",
       "type                                                                    page   \n",
       "user_id                                                                20471   \n",
       "version                                                                    2   \n",
       "properties__referrer       https://app.viddyoze.com/member/templates/cate...   \n",
       "context__page__referrer    https://app.viddyoze.com/member/templates/cate...   \n",
       "context__user_agent        Mozilla/5.0 (Windows NT 10.0; Win64; x64) Appl...   \n",
       "context__page__url         https://app.viddyoze.com/member/templates/cate...   \n",
       "context__page__search                                                    NaN   \n",
       "properties__url            https://app.viddyoze.com/member/templates/cate...   \n",
       "properties__search                                                       NaN   \n",
       "context__campaign__name                                                  NaN   \n",
       "context__campaign__medium                                                NaN   \n",
       "context__campaign__source                                                NaN   \n",
       "_BATCH_ID_                                                                50   \n",
       "_BATCH_LAST_RUN_                                         2018-02-05 15:33:01   \n",
       "\n",
       "                                                                           1  \\\n",
       "_sdc_batched_at                                          2017-11-24 14:20:30   \n",
       "_sdc_received_at                                         2017-11-24 14:19:01   \n",
       "_sdc_sequence                                                    1.51153e+12   \n",
       "_sdc_table_version                                                         0   \n",
       "anonymous_id                            c4dc444c-0bee-42f3-9445-19187491b752   \n",
       "channel                                                               client   \n",
       "context__ip                                                   92.247.171.164   \n",
       "context__library__name                                          analytics.js   \n",
       "context__library__version                                              3.2.5   \n",
       "context__page__path                       /member/templates/category/intro/4   \n",
       "context__page__title                                                Viddyoze   \n",
       "dedupe_metadata__offset                                           7770754230   \n",
       "message_id                              ajs-60dc031441265bcfa0ac22a2d6959682   \n",
       "properties__path                          /member/templates/category/intro/4   \n",
       "properties__title                                                   Viddyoze   \n",
       "received_at                                         2017-11-24T14:18:59.465Z   \n",
       "sent_at                                             2017-11-24T14:19:00.789Z   \n",
       "timestamp                                           2017-11-24T14:18:59.462Z   \n",
       "type                                                                    page   \n",
       "user_id                                                                31296   \n",
       "version                                                                    2   \n",
       "properties__referrer       https://app.viddyoze.com/member/templates/cate...   \n",
       "context__page__referrer    https://app.viddyoze.com/member/templates/cate...   \n",
       "context__user_agent        Mozilla/5.0 (Windows NT 10.0; Win64; x64) Appl...   \n",
       "context__page__url         https://app.viddyoze.com/member/templates/cate...   \n",
       "context__page__search                                                    NaN   \n",
       "properties__url            https://app.viddyoze.com/member/templates/cate...   \n",
       "properties__search                                                       NaN   \n",
       "context__campaign__name                                                  NaN   \n",
       "context__campaign__medium                                                NaN   \n",
       "context__campaign__source                                                NaN   \n",
       "_BATCH_ID_                                                                50   \n",
       "_BATCH_LAST_RUN_                                         2018-02-05 15:33:01   \n",
       "\n",
       "                                                                           2  \\\n",
       "_sdc_batched_at                                          2017-11-24 14:20:30   \n",
       "_sdc_received_at                                         2017-11-24 14:19:26   \n",
       "_sdc_sequence                                                    1.51153e+12   \n",
       "_sdc_table_version                                                         0   \n",
       "anonymous_id                            16a939fd-4629-4ac3-8130-26be07d5b44d   \n",
       "channel                                                               client   \n",
       "context__ip                                                   190.240.55.183   \n",
       "context__library__name                                          analytics.js   \n",
       "context__library__version                                              3.2.5   \n",
       "context__page__path                                          /member/renders   \n",
       "context__page__title                                                Viddyoze   \n",
       "dedupe_metadata__offset                                           7770797033   \n",
       "message_id                              ajs-9943baf0c796ce427e5710e84a51b300   \n",
       "properties__path                                             /member/renders   \n",
       "properties__title                                                   Viddyoze   \n",
       "received_at                                         2017-11-24T14:19:24.726Z   \n",
       "sent_at                                             2017-11-24T14:19:23.769Z   \n",
       "timestamp                                           2017-11-24T14:19:24.722Z   \n",
       "type                                                                    page   \n",
       "user_id                                                                18531   \n",
       "version                                                                    2   \n",
       "properties__referrer         https://app.viddyoze.com/member/renders/1510509   \n",
       "context__page__referrer      https://app.viddyoze.com/member/renders/1510509   \n",
       "context__user_agent        Mozilla/5.0 (Windows NT 10.0; Win64; x64) Appl...   \n",
       "context__page__url                   https://app.viddyoze.com/member/renders   \n",
       "context__page__search                                                    NaN   \n",
       "properties__url                      https://app.viddyoze.com/member/renders   \n",
       "properties__search                                                       NaN   \n",
       "context__campaign__name                                                  NaN   \n",
       "context__campaign__medium                                                NaN   \n",
       "context__campaign__source                                                NaN   \n",
       "_BATCH_ID_                                                                50   \n",
       "_BATCH_LAST_RUN_                                         2018-02-05 15:33:01   \n",
       "\n",
       "                                                                           3  \\\n",
       "_sdc_batched_at                                          2017-11-24 14:20:30   \n",
       "_sdc_received_at                                         2017-11-24 14:19:29   \n",
       "_sdc_sequence                                                    1.51153e+12   \n",
       "_sdc_table_version                                                         0   \n",
       "anonymous_id                            7262c800-4697-4a2b-a36b-6ec5850e90de   \n",
       "channel                                                               client   \n",
       "context__ip                                                   108.181.142.63   \n",
       "context__library__name                                          analytics.js   \n",
       "context__library__version                                              3.2.5   \n",
       "context__page__path                                  /member/renders/1510507   \n",
       "context__page__title                                                Viddyoze   \n",
       "dedupe_metadata__offset                                           7769710211   \n",
       "message_id                              ajs-a7ab959e6eca8d4a657e442f2fee6c90   \n",
       "properties__path                                     /member/renders/1510507   \n",
       "properties__title                                                   Viddyoze   \n",
       "received_at                                         2017-11-24T14:19:27.673Z   \n",
       "sent_at                                             2017-11-24T14:19:26.188Z   \n",
       "timestamp                                           2017-11-24T14:19:27.667Z   \n",
       "type                                                                    page   \n",
       "user_id                                                                56492   \n",
       "version                                                                    2   \n",
       "properties__referrer         https://app.viddyoze.com/member/renders/1510507   \n",
       "context__page__referrer      https://app.viddyoze.com/member/renders/1510507   \n",
       "context__user_agent        Mozilla/5.0 (Windows NT 10.0; Win64; x64) Appl...   \n",
       "context__page__url           https://app.viddyoze.com/member/renders/1510507   \n",
       "context__page__search                                                    NaN   \n",
       "properties__url              https://app.viddyoze.com/member/renders/1510507   \n",
       "properties__search                                                       NaN   \n",
       "context__campaign__name                                                  NaN   \n",
       "context__campaign__medium                                                NaN   \n",
       "context__campaign__source                                                NaN   \n",
       "_BATCH_ID_                                                                50   \n",
       "_BATCH_LAST_RUN_                                         2018-02-05 15:33:01   \n",
       "\n",
       "                                                                           4  \n",
       "_sdc_batched_at                                          2017-11-24 14:20:30  \n",
       "_sdc_received_at                                         2017-11-24 14:19:08  \n",
       "_sdc_sequence                                                    1.51153e+12  \n",
       "_sdc_table_version                                                         0  \n",
       "anonymous_id                            c4dc444c-0bee-42f3-9445-19187491b752  \n",
       "channel                                                               client  \n",
       "context__ip                                                   92.247.171.164  \n",
       "context__library__name                                          analytics.js  \n",
       "context__library__version                                              3.2.5  \n",
       "context__page__path                       /member/templates/category/intro/5  \n",
       "context__page__title                                                Viddyoze  \n",
       "dedupe_metadata__offset                                           7770006702  \n",
       "message_id                              ajs-bd534f234ab962c04fe88d33723fe493  \n",
       "properties__path                          /member/templates/category/intro/5  \n",
       "properties__title                                                   Viddyoze  \n",
       "received_at                                         2017-11-24T14:19:06.798Z  \n",
       "sent_at                                             2017-11-24T14:19:08.126Z  \n",
       "timestamp                                           2017-11-24T14:19:06.797Z  \n",
       "type                                                                    page  \n",
       "user_id                                                                31296  \n",
       "version                                                                    2  \n",
       "properties__referrer       https://app.viddyoze.com/member/templates/cate...  \n",
       "context__page__referrer    https://app.viddyoze.com/member/templates/cate...  \n",
       "context__user_agent        Mozilla/5.0 (Windows NT 10.0; Win64; x64) Appl...  \n",
       "context__page__url         https://app.viddyoze.com/member/templates/cate...  \n",
       "context__page__search                                                    NaN  \n",
       "properties__url            https://app.viddyoze.com/member/templates/cate...  \n",
       "properties__search                                                       NaN  \n",
       "context__campaign__name                                                  NaN  \n",
       "context__campaign__medium                                                NaN  \n",
       "context__campaign__source                                                NaN  \n",
       "_BATCH_ID_                                                                50  \n",
       "_BATCH_LAST_RUN_                                         2018-02-05 15:33:01  "
      ]
     },
     "execution_count": 5,
     "metadata": {},
     "output_type": "execute_result"
    }
   ],
   "source": [
    "data2.head().T"
   ]
  },
  {
   "cell_type": "code",
   "execution_count": 6,
   "metadata": {
    "collapsed": true
   },
   "outputs": [],
   "source": [
    "import matplotlib.pyplot as plt"
   ]
  },
  {
   "cell_type": "code",
   "execution_count": null,
   "metadata": {
    "collapsed": true
   },
   "outputs": [],
   "source": []
  },
  {
   "cell_type": "code",
   "execution_count": 69,
   "metadata": {
    "collapsed": false
   },
   "outputs": [],
   "source": [
    "#frame = {'properties__url','user_id','context__ip'}\n",
    "df = data2.loc[:,['_sdc_batched_at','properties__url','user_id','context__ip']]"
   ]
  },
  {
   "cell_type": "code",
   "execution_count": 70,
   "metadata": {
    "collapsed": false
   },
   "outputs": [
    {
     "data": {
      "text/html": [
       "<div>\n",
       "<table border=\"1\" class=\"dataframe\">\n",
       "  <thead>\n",
       "    <tr style=\"text-align: right;\">\n",
       "      <th></th>\n",
       "      <th>_sdc_batched_at</th>\n",
       "      <th>properties__url</th>\n",
       "      <th>user_id</th>\n",
       "      <th>context__ip</th>\n",
       "    </tr>\n",
       "  </thead>\n",
       "  <tbody>\n",
       "    <tr>\n",
       "      <th>0</th>\n",
       "      <td>2017-11-24 14:20:30</td>\n",
       "      <td>https://app.viddyoze.com/member/templates/cate...</td>\n",
       "      <td>20471.0</td>\n",
       "      <td>175.137.41.111</td>\n",
       "    </tr>\n",
       "    <tr>\n",
       "      <th>1</th>\n",
       "      <td>2017-11-24 14:20:30</td>\n",
       "      <td>https://app.viddyoze.com/member/templates/cate...</td>\n",
       "      <td>31296.0</td>\n",
       "      <td>92.247.171.164</td>\n",
       "    </tr>\n",
       "    <tr>\n",
       "      <th>2</th>\n",
       "      <td>2017-11-24 14:20:30</td>\n",
       "      <td>https://app.viddyoze.com/member/renders</td>\n",
       "      <td>18531.0</td>\n",
       "      <td>190.240.55.183</td>\n",
       "    </tr>\n",
       "    <tr>\n",
       "      <th>3</th>\n",
       "      <td>2017-11-24 14:20:30</td>\n",
       "      <td>https://app.viddyoze.com/member/renders/1510507</td>\n",
       "      <td>56492.0</td>\n",
       "      <td>108.181.142.63</td>\n",
       "    </tr>\n",
       "    <tr>\n",
       "      <th>4</th>\n",
       "      <td>2017-11-24 14:20:30</td>\n",
       "      <td>https://app.viddyoze.com/member/templates/cate...</td>\n",
       "      <td>31296.0</td>\n",
       "      <td>92.247.171.164</td>\n",
       "    </tr>\n",
       "    <tr>\n",
       "      <th>5</th>\n",
       "      <td>2017-11-24 14:20:30</td>\n",
       "      <td>https://app.viddyoze.com/member/templates/cate...</td>\n",
       "      <td>31296.0</td>\n",
       "      <td>92.247.171.164</td>\n",
       "    </tr>\n",
       "    <tr>\n",
       "      <th>6</th>\n",
       "      <td>2017-11-24 14:20:30</td>\n",
       "      <td>https://app.viddyoze.com/member/templates/608/use</td>\n",
       "      <td>56055.0</td>\n",
       "      <td>82.107.93.9</td>\n",
       "    </tr>\n",
       "    <tr>\n",
       "      <th>7</th>\n",
       "      <td>2017-11-24 14:20:30</td>\n",
       "      <td>https://app.viddyoze.com/member/templates/cate...</td>\n",
       "      <td>2531.0</td>\n",
       "      <td>68.196.119.41</td>\n",
       "    </tr>\n",
       "    <tr>\n",
       "      <th>8</th>\n",
       "      <td>2017-11-24 14:20:30</td>\n",
       "      <td>https://app.viddyoze.com/member/renders/1510500</td>\n",
       "      <td>24030.0</td>\n",
       "      <td>79.32.208.100</td>\n",
       "    </tr>\n",
       "    <tr>\n",
       "      <th>9</th>\n",
       "      <td>2017-11-24 14:20:30</td>\n",
       "      <td>https://app.viddyoze.com/member/templates/cate...</td>\n",
       "      <td>60028.0</td>\n",
       "      <td>178.22.220.62</td>\n",
       "    </tr>\n",
       "    <tr>\n",
       "      <th>10</th>\n",
       "      <td>2017-11-24 14:20:30</td>\n",
       "      <td>https://app.viddyoze.com/member/templates/cate...</td>\n",
       "      <td>31296.0</td>\n",
       "      <td>92.247.171.164</td>\n",
       "    </tr>\n",
       "    <tr>\n",
       "      <th>11</th>\n",
       "      <td>2017-11-24 14:20:30</td>\n",
       "      <td>https://app.viddyoze.com/member/renders/1510499</td>\n",
       "      <td>37294.0</td>\n",
       "      <td>41.90.56.247</td>\n",
       "    </tr>\n",
       "    <tr>\n",
       "      <th>12</th>\n",
       "      <td>2017-11-24 14:20:30</td>\n",
       "      <td>https://app.viddyoze.com/member/templates/cate...</td>\n",
       "      <td>2531.0</td>\n",
       "      <td>68.196.119.41</td>\n",
       "    </tr>\n",
       "    <tr>\n",
       "      <th>13</th>\n",
       "      <td>2017-11-24 14:20:30</td>\n",
       "      <td>https://app.viddyoze.com/member/templates/cate...</td>\n",
       "      <td>20471.0</td>\n",
       "      <td>175.137.41.111</td>\n",
       "    </tr>\n",
       "    <tr>\n",
       "      <th>14</th>\n",
       "      <td>2017-11-24 14:20:30</td>\n",
       "      <td>https://app.viddyoze.com/member/templates/cate...</td>\n",
       "      <td>31296.0</td>\n",
       "      <td>92.247.171.164</td>\n",
       "    </tr>\n",
       "    <tr>\n",
       "      <th>15</th>\n",
       "      <td>2017-11-24 14:20:30</td>\n",
       "      <td>https://app.viddyoze.com/member/renders/1510502</td>\n",
       "      <td>61824.0</td>\n",
       "      <td>198.37.171.13</td>\n",
       "    </tr>\n",
       "    <tr>\n",
       "      <th>16</th>\n",
       "      <td>2017-11-24 14:36:44</td>\n",
       "      <td>https://app.viddyoze.com/member/renders/1510527</td>\n",
       "      <td>53182.0</td>\n",
       "      <td>67.175.23.84</td>\n",
       "    </tr>\n",
       "    <tr>\n",
       "      <th>17</th>\n",
       "      <td>2017-11-24 14:36:43</td>\n",
       "      <td>https://app.viddyoze.com/member/renders/1510511</td>\n",
       "      <td>23345.0</td>\n",
       "      <td>184.4.216.100</td>\n",
       "    </tr>\n",
       "    <tr>\n",
       "      <th>18</th>\n",
       "      <td>2017-11-24 14:36:44</td>\n",
       "      <td>https://app.viddyoze.com/member/renders/1510532</td>\n",
       "      <td>22048.0</td>\n",
       "      <td>217.70.252.105</td>\n",
       "    </tr>\n",
       "    <tr>\n",
       "      <th>19</th>\n",
       "      <td>2017-11-24 14:36:44</td>\n",
       "      <td>https://app.viddyoze.com/member/templates/cate...</td>\n",
       "      <td>22048.0</td>\n",
       "      <td>217.70.252.105</td>\n",
       "    </tr>\n",
       "    <tr>\n",
       "      <th>20</th>\n",
       "      <td>2017-11-24 14:36:44</td>\n",
       "      <td>https://app.viddyoze.com/member/renders/1510519</td>\n",
       "      <td>2531.0</td>\n",
       "      <td>68.196.119.41</td>\n",
       "    </tr>\n",
       "    <tr>\n",
       "      <th>21</th>\n",
       "      <td>2017-11-24 14:36:44</td>\n",
       "      <td>https://app.viddyoze.com/member/templates/cate...</td>\n",
       "      <td>62825.0</td>\n",
       "      <td>109.156.217.55</td>\n",
       "    </tr>\n",
       "    <tr>\n",
       "      <th>22</th>\n",
       "      <td>2017-11-24 14:36:43</td>\n",
       "      <td>https://app.viddyoze.com/member/templates/cate...</td>\n",
       "      <td>31296.0</td>\n",
       "      <td>92.247.171.164</td>\n",
       "    </tr>\n",
       "    <tr>\n",
       "      <th>23</th>\n",
       "      <td>2017-11-24 14:36:44</td>\n",
       "      <td>https://app.viddyoze.com/member/templates/cate...</td>\n",
       "      <td>36964.0</td>\n",
       "      <td>100.6.120.20</td>\n",
       "    </tr>\n",
       "    <tr>\n",
       "      <th>24</th>\n",
       "      <td>2017-11-24 14:36:43</td>\n",
       "      <td>https://app.viddyoze.com/member/renders/1510521</td>\n",
       "      <td>62825.0</td>\n",
       "      <td>109.156.217.55</td>\n",
       "    </tr>\n",
       "    <tr>\n",
       "      <th>25</th>\n",
       "      <td>2017-11-24 14:36:44</td>\n",
       "      <td>https://app.viddyoze.com/member/templates/cate...</td>\n",
       "      <td>NaN</td>\n",
       "      <td>108.194.137.119</td>\n",
       "    </tr>\n",
       "    <tr>\n",
       "      <th>26</th>\n",
       "      <td>2017-11-24 14:36:44</td>\n",
       "      <td>https://app.viddyoze.com/member/templates/cate...</td>\n",
       "      <td>62926.0</td>\n",
       "      <td>85.115.54.201</td>\n",
       "    </tr>\n",
       "    <tr>\n",
       "      <th>27</th>\n",
       "      <td>2017-11-24 14:36:44</td>\n",
       "      <td>https://app.viddyoze.com/member/templates/cate...</td>\n",
       "      <td>24030.0</td>\n",
       "      <td>79.32.208.100</td>\n",
       "    </tr>\n",
       "    <tr>\n",
       "      <th>28</th>\n",
       "      <td>2017-11-24 14:36:44</td>\n",
       "      <td>https://app.viddyoze.com/member/templates/252/use</td>\n",
       "      <td>62825.0</td>\n",
       "      <td>109.156.217.55</td>\n",
       "    </tr>\n",
       "    <tr>\n",
       "      <th>29</th>\n",
       "      <td>2017-11-24 14:36:44</td>\n",
       "      <td>https://app.viddyoze.com/member/templates/cate...</td>\n",
       "      <td>48972.0</td>\n",
       "      <td>72.39.114.18</td>\n",
       "    </tr>\n",
       "    <tr>\n",
       "      <th>...</th>\n",
       "      <td>...</td>\n",
       "      <td>...</td>\n",
       "      <td>...</td>\n",
       "      <td>...</td>\n",
       "    </tr>\n",
       "    <tr>\n",
       "      <th>1546100</th>\n",
       "      <td>2018-02-05 15:32:02</td>\n",
       "      <td>https://app.viddyoze.com/templates/34/use</td>\n",
       "      <td>19177.0</td>\n",
       "      <td>81.98.229.156</td>\n",
       "    </tr>\n",
       "    <tr>\n",
       "      <th>1546101</th>\n",
       "      <td>2018-02-05 15:32:03</td>\n",
       "      <td>https://app.viddyoze.com/templates/category/lo...</td>\n",
       "      <td>29742.0</td>\n",
       "      <td>71.46.243.155</td>\n",
       "    </tr>\n",
       "    <tr>\n",
       "      <th>1546102</th>\n",
       "      <td>2018-02-05 15:32:02</td>\n",
       "      <td>https://app.viddyoze.com/templates/category/al...</td>\n",
       "      <td>51325.0</td>\n",
       "      <td>62.44.134.162</td>\n",
       "    </tr>\n",
       "    <tr>\n",
       "      <th>1546103</th>\n",
       "      <td>2018-02-05 15:32:03</td>\n",
       "      <td>https://app.viddyoze.com/templates/category</td>\n",
       "      <td>29742.0</td>\n",
       "      <td>71.46.243.155</td>\n",
       "    </tr>\n",
       "    <tr>\n",
       "      <th>1546104</th>\n",
       "      <td>2018-02-05 15:32:02</td>\n",
       "      <td>https://app.viddyoze.com/member/renders/164600...</td>\n",
       "      <td>29742.0</td>\n",
       "      <td>71.46.243.155</td>\n",
       "    </tr>\n",
       "    <tr>\n",
       "      <th>1546105</th>\n",
       "      <td>2018-02-05 15:32:02</td>\n",
       "      <td>https://app.viddyoze.com/templates/category</td>\n",
       "      <td>49657.0</td>\n",
       "      <td>72.224.229.138</td>\n",
       "    </tr>\n",
       "    <tr>\n",
       "      <th>1546106</th>\n",
       "      <td>2018-02-05 15:32:03</td>\n",
       "      <td>https://app.viddyoze.com/templates/category/lo...</td>\n",
       "      <td>29742.0</td>\n",
       "      <td>71.46.243.155</td>\n",
       "    </tr>\n",
       "    <tr>\n",
       "      <th>1546107</th>\n",
       "      <td>2018-02-05 15:32:02</td>\n",
       "      <td>https://app.viddyoze.com/member/renders/164596...</td>\n",
       "      <td>57900.0</td>\n",
       "      <td>185.6.173.122</td>\n",
       "    </tr>\n",
       "    <tr>\n",
       "      <th>1546108</th>\n",
       "      <td>2018-02-05 15:32:02</td>\n",
       "      <td>https://app.viddyoze.com/member/renders/164599...</td>\n",
       "      <td>52508.0</td>\n",
       "      <td>66.69.55.202</td>\n",
       "    </tr>\n",
       "    <tr>\n",
       "      <th>1546109</th>\n",
       "      <td>2018-02-05 15:32:02</td>\n",
       "      <td>https://app.viddyoze.com/templates/category/al...</td>\n",
       "      <td>36761.0</td>\n",
       "      <td>76.110.34.78</td>\n",
       "    </tr>\n",
       "    <tr>\n",
       "      <th>1546110</th>\n",
       "      <td>2018-02-05 15:32:03</td>\n",
       "      <td>https://app.viddyoze.com/templates/category/la...</td>\n",
       "      <td>29742.0</td>\n",
       "      <td>71.46.243.155</td>\n",
       "    </tr>\n",
       "    <tr>\n",
       "      <th>1546111</th>\n",
       "      <td>2018-02-05 15:32:02</td>\n",
       "      <td>https://app.viddyoze.com/templates/category/lo...</td>\n",
       "      <td>51325.0</td>\n",
       "      <td>62.44.134.162</td>\n",
       "    </tr>\n",
       "    <tr>\n",
       "      <th>1546112</th>\n",
       "      <td>2018-02-05 15:32:02</td>\n",
       "      <td>https://app.viddyoze.com/users/sign_in</td>\n",
       "      <td>NaN</td>\n",
       "      <td>41.79.188.114</td>\n",
       "    </tr>\n",
       "    <tr>\n",
       "      <th>1546113</th>\n",
       "      <td>2018-02-05 15:32:02</td>\n",
       "      <td>https://app.viddyoze.com/templates/category/alpha</td>\n",
       "      <td>7426.0</td>\n",
       "      <td>107.77.236.41</td>\n",
       "    </tr>\n",
       "    <tr>\n",
       "      <th>1546114</th>\n",
       "      <td>2018-02-05 15:32:03</td>\n",
       "      <td>https://app.viddyoze.com/templates/category/alpha</td>\n",
       "      <td>33306.0</td>\n",
       "      <td>24.166.113.194</td>\n",
       "    </tr>\n",
       "    <tr>\n",
       "      <th>1546115</th>\n",
       "      <td>2018-02-05 15:32:02</td>\n",
       "      <td>https://app.viddyoze.com/templates/category/alpha</td>\n",
       "      <td>60748.0</td>\n",
       "      <td>77.164.223.93</td>\n",
       "    </tr>\n",
       "    <tr>\n",
       "      <th>1546116</th>\n",
       "      <td>2018-02-05 15:32:03</td>\n",
       "      <td>https://app.viddyoze.com/templates/category/lo...</td>\n",
       "      <td>29742.0</td>\n",
       "      <td>71.46.243.155</td>\n",
       "    </tr>\n",
       "    <tr>\n",
       "      <th>1546117</th>\n",
       "      <td>2018-02-05 15:32:03</td>\n",
       "      <td>https://app.viddyoze.com/templates/category/in...</td>\n",
       "      <td>52508.0</td>\n",
       "      <td>66.69.55.202</td>\n",
       "    </tr>\n",
       "    <tr>\n",
       "      <th>1546118</th>\n",
       "      <td>2018-02-05 15:32:03</td>\n",
       "      <td>https://app.viddyoze.com/templates/category/logo</td>\n",
       "      <td>7426.0</td>\n",
       "      <td>107.77.236.41</td>\n",
       "    </tr>\n",
       "    <tr>\n",
       "      <th>1546119</th>\n",
       "      <td>2018-02-05 15:32:02</td>\n",
       "      <td>https://app.viddyoze.com/templates/category/lo...</td>\n",
       "      <td>49657.0</td>\n",
       "      <td>72.224.229.138</td>\n",
       "    </tr>\n",
       "    <tr>\n",
       "      <th>1546120</th>\n",
       "      <td>2018-02-05 15:32:02</td>\n",
       "      <td>https://app.viddyoze.com/member/renders/164599...</td>\n",
       "      <td>53803.0</td>\n",
       "      <td>24.135.150.189</td>\n",
       "    </tr>\n",
       "    <tr>\n",
       "      <th>1546121</th>\n",
       "      <td>2018-02-05 15:32:02</td>\n",
       "      <td>https://app.viddyoze.com/templates/286</td>\n",
       "      <td>29742.0</td>\n",
       "      <td>71.46.243.155</td>\n",
       "    </tr>\n",
       "    <tr>\n",
       "      <th>1546122</th>\n",
       "      <td>2018-02-05 15:32:02</td>\n",
       "      <td>https://app.viddyoze.com/templates/category/lo...</td>\n",
       "      <td>51325.0</td>\n",
       "      <td>62.44.134.162</td>\n",
       "    </tr>\n",
       "    <tr>\n",
       "      <th>1546123</th>\n",
       "      <td>2018-02-05 15:32:02</td>\n",
       "      <td>https://app.viddyoze.com/member/renders/164599...</td>\n",
       "      <td>37760.0</td>\n",
       "      <td>24.156.38.4</td>\n",
       "    </tr>\n",
       "    <tr>\n",
       "      <th>1546124</th>\n",
       "      <td>2018-02-05 15:32:02</td>\n",
       "      <td>https://app.viddyoze.com/member/renders/164598...</td>\n",
       "      <td>59473.0</td>\n",
       "      <td>41.77.205.97</td>\n",
       "    </tr>\n",
       "    <tr>\n",
       "      <th>1546125</th>\n",
       "      <td>2018-02-05 15:32:03</td>\n",
       "      <td>https://app.viddyoze.com/templates/category/lo...</td>\n",
       "      <td>49657.0</td>\n",
       "      <td>72.224.229.138</td>\n",
       "    </tr>\n",
       "    <tr>\n",
       "      <th>1546126</th>\n",
       "      <td>2018-02-05 15:32:02</td>\n",
       "      <td>https://app.viddyoze.com/member/renders/164597...</td>\n",
       "      <td>24352.0</td>\n",
       "      <td>190.98.67.113</td>\n",
       "    </tr>\n",
       "    <tr>\n",
       "      <th>1546127</th>\n",
       "      <td>2018-02-05 15:32:02</td>\n",
       "      <td>https://app.viddyoze.com/templates/61</td>\n",
       "      <td>51325.0</td>\n",
       "      <td>62.44.134.162</td>\n",
       "    </tr>\n",
       "    <tr>\n",
       "      <th>1546128</th>\n",
       "      <td>2018-02-05 15:32:02</td>\n",
       "      <td>https://app.viddyoze.com/member/renders/164597...</td>\n",
       "      <td>60859.0</td>\n",
       "      <td>73.184.79.128</td>\n",
       "    </tr>\n",
       "    <tr>\n",
       "      <th>1546129</th>\n",
       "      <td>2018-02-05 15:32:02</td>\n",
       "      <td>https://app.viddyoze.com/templates/category/intro</td>\n",
       "      <td>62256.0</td>\n",
       "      <td>90.152.3.234</td>\n",
       "    </tr>\n",
       "  </tbody>\n",
       "</table>\n",
       "<p>1546130 rows × 4 columns</p>\n",
       "</div>"
      ],
      "text/plain": [
       "             _sdc_batched_at  \\\n",
       "0        2017-11-24 14:20:30   \n",
       "1        2017-11-24 14:20:30   \n",
       "2        2017-11-24 14:20:30   \n",
       "3        2017-11-24 14:20:30   \n",
       "4        2017-11-24 14:20:30   \n",
       "5        2017-11-24 14:20:30   \n",
       "6        2017-11-24 14:20:30   \n",
       "7        2017-11-24 14:20:30   \n",
       "8        2017-11-24 14:20:30   \n",
       "9        2017-11-24 14:20:30   \n",
       "10       2017-11-24 14:20:30   \n",
       "11       2017-11-24 14:20:30   \n",
       "12       2017-11-24 14:20:30   \n",
       "13       2017-11-24 14:20:30   \n",
       "14       2017-11-24 14:20:30   \n",
       "15       2017-11-24 14:20:30   \n",
       "16       2017-11-24 14:36:44   \n",
       "17       2017-11-24 14:36:43   \n",
       "18       2017-11-24 14:36:44   \n",
       "19       2017-11-24 14:36:44   \n",
       "20       2017-11-24 14:36:44   \n",
       "21       2017-11-24 14:36:44   \n",
       "22       2017-11-24 14:36:43   \n",
       "23       2017-11-24 14:36:44   \n",
       "24       2017-11-24 14:36:43   \n",
       "25       2017-11-24 14:36:44   \n",
       "26       2017-11-24 14:36:44   \n",
       "27       2017-11-24 14:36:44   \n",
       "28       2017-11-24 14:36:44   \n",
       "29       2017-11-24 14:36:44   \n",
       "...                      ...   \n",
       "1546100  2018-02-05 15:32:02   \n",
       "1546101  2018-02-05 15:32:03   \n",
       "1546102  2018-02-05 15:32:02   \n",
       "1546103  2018-02-05 15:32:03   \n",
       "1546104  2018-02-05 15:32:02   \n",
       "1546105  2018-02-05 15:32:02   \n",
       "1546106  2018-02-05 15:32:03   \n",
       "1546107  2018-02-05 15:32:02   \n",
       "1546108  2018-02-05 15:32:02   \n",
       "1546109  2018-02-05 15:32:02   \n",
       "1546110  2018-02-05 15:32:03   \n",
       "1546111  2018-02-05 15:32:02   \n",
       "1546112  2018-02-05 15:32:02   \n",
       "1546113  2018-02-05 15:32:02   \n",
       "1546114  2018-02-05 15:32:03   \n",
       "1546115  2018-02-05 15:32:02   \n",
       "1546116  2018-02-05 15:32:03   \n",
       "1546117  2018-02-05 15:32:03   \n",
       "1546118  2018-02-05 15:32:03   \n",
       "1546119  2018-02-05 15:32:02   \n",
       "1546120  2018-02-05 15:32:02   \n",
       "1546121  2018-02-05 15:32:02   \n",
       "1546122  2018-02-05 15:32:02   \n",
       "1546123  2018-02-05 15:32:02   \n",
       "1546124  2018-02-05 15:32:02   \n",
       "1546125  2018-02-05 15:32:03   \n",
       "1546126  2018-02-05 15:32:02   \n",
       "1546127  2018-02-05 15:32:02   \n",
       "1546128  2018-02-05 15:32:02   \n",
       "1546129  2018-02-05 15:32:02   \n",
       "\n",
       "                                           properties__url  user_id  \\\n",
       "0        https://app.viddyoze.com/member/templates/cate...  20471.0   \n",
       "1        https://app.viddyoze.com/member/templates/cate...  31296.0   \n",
       "2                  https://app.viddyoze.com/member/renders  18531.0   \n",
       "3          https://app.viddyoze.com/member/renders/1510507  56492.0   \n",
       "4        https://app.viddyoze.com/member/templates/cate...  31296.0   \n",
       "5        https://app.viddyoze.com/member/templates/cate...  31296.0   \n",
       "6        https://app.viddyoze.com/member/templates/608/use  56055.0   \n",
       "7        https://app.viddyoze.com/member/templates/cate...   2531.0   \n",
       "8          https://app.viddyoze.com/member/renders/1510500  24030.0   \n",
       "9        https://app.viddyoze.com/member/templates/cate...  60028.0   \n",
       "10       https://app.viddyoze.com/member/templates/cate...  31296.0   \n",
       "11         https://app.viddyoze.com/member/renders/1510499  37294.0   \n",
       "12       https://app.viddyoze.com/member/templates/cate...   2531.0   \n",
       "13       https://app.viddyoze.com/member/templates/cate...  20471.0   \n",
       "14       https://app.viddyoze.com/member/templates/cate...  31296.0   \n",
       "15         https://app.viddyoze.com/member/renders/1510502  61824.0   \n",
       "16         https://app.viddyoze.com/member/renders/1510527  53182.0   \n",
       "17         https://app.viddyoze.com/member/renders/1510511  23345.0   \n",
       "18         https://app.viddyoze.com/member/renders/1510532  22048.0   \n",
       "19       https://app.viddyoze.com/member/templates/cate...  22048.0   \n",
       "20         https://app.viddyoze.com/member/renders/1510519   2531.0   \n",
       "21       https://app.viddyoze.com/member/templates/cate...  62825.0   \n",
       "22       https://app.viddyoze.com/member/templates/cate...  31296.0   \n",
       "23       https://app.viddyoze.com/member/templates/cate...  36964.0   \n",
       "24         https://app.viddyoze.com/member/renders/1510521  62825.0   \n",
       "25       https://app.viddyoze.com/member/templates/cate...      NaN   \n",
       "26       https://app.viddyoze.com/member/templates/cate...  62926.0   \n",
       "27       https://app.viddyoze.com/member/templates/cate...  24030.0   \n",
       "28       https://app.viddyoze.com/member/templates/252/use  62825.0   \n",
       "29       https://app.viddyoze.com/member/templates/cate...  48972.0   \n",
       "...                                                    ...      ...   \n",
       "1546100          https://app.viddyoze.com/templates/34/use  19177.0   \n",
       "1546101  https://app.viddyoze.com/templates/category/lo...  29742.0   \n",
       "1546102  https://app.viddyoze.com/templates/category/al...  51325.0   \n",
       "1546103        https://app.viddyoze.com/templates/category  29742.0   \n",
       "1546104  https://app.viddyoze.com/member/renders/164600...  29742.0   \n",
       "1546105        https://app.viddyoze.com/templates/category  49657.0   \n",
       "1546106  https://app.viddyoze.com/templates/category/lo...  29742.0   \n",
       "1546107  https://app.viddyoze.com/member/renders/164596...  57900.0   \n",
       "1546108  https://app.viddyoze.com/member/renders/164599...  52508.0   \n",
       "1546109  https://app.viddyoze.com/templates/category/al...  36761.0   \n",
       "1546110  https://app.viddyoze.com/templates/category/la...  29742.0   \n",
       "1546111  https://app.viddyoze.com/templates/category/lo...  51325.0   \n",
       "1546112             https://app.viddyoze.com/users/sign_in      NaN   \n",
       "1546113  https://app.viddyoze.com/templates/category/alpha   7426.0   \n",
       "1546114  https://app.viddyoze.com/templates/category/alpha  33306.0   \n",
       "1546115  https://app.viddyoze.com/templates/category/alpha  60748.0   \n",
       "1546116  https://app.viddyoze.com/templates/category/lo...  29742.0   \n",
       "1546117  https://app.viddyoze.com/templates/category/in...  52508.0   \n",
       "1546118   https://app.viddyoze.com/templates/category/logo   7426.0   \n",
       "1546119  https://app.viddyoze.com/templates/category/lo...  49657.0   \n",
       "1546120  https://app.viddyoze.com/member/renders/164599...  53803.0   \n",
       "1546121             https://app.viddyoze.com/templates/286  29742.0   \n",
       "1546122  https://app.viddyoze.com/templates/category/lo...  51325.0   \n",
       "1546123  https://app.viddyoze.com/member/renders/164599...  37760.0   \n",
       "1546124  https://app.viddyoze.com/member/renders/164598...  59473.0   \n",
       "1546125  https://app.viddyoze.com/templates/category/lo...  49657.0   \n",
       "1546126  https://app.viddyoze.com/member/renders/164597...  24352.0   \n",
       "1546127              https://app.viddyoze.com/templates/61  51325.0   \n",
       "1546128  https://app.viddyoze.com/member/renders/164597...  60859.0   \n",
       "1546129  https://app.viddyoze.com/templates/category/intro  62256.0   \n",
       "\n",
       "             context__ip  \n",
       "0         175.137.41.111  \n",
       "1         92.247.171.164  \n",
       "2         190.240.55.183  \n",
       "3         108.181.142.63  \n",
       "4         92.247.171.164  \n",
       "5         92.247.171.164  \n",
       "6            82.107.93.9  \n",
       "7          68.196.119.41  \n",
       "8          79.32.208.100  \n",
       "9          178.22.220.62  \n",
       "10        92.247.171.164  \n",
       "11          41.90.56.247  \n",
       "12         68.196.119.41  \n",
       "13        175.137.41.111  \n",
       "14        92.247.171.164  \n",
       "15         198.37.171.13  \n",
       "16          67.175.23.84  \n",
       "17         184.4.216.100  \n",
       "18        217.70.252.105  \n",
       "19        217.70.252.105  \n",
       "20         68.196.119.41  \n",
       "21        109.156.217.55  \n",
       "22        92.247.171.164  \n",
       "23          100.6.120.20  \n",
       "24        109.156.217.55  \n",
       "25       108.194.137.119  \n",
       "26         85.115.54.201  \n",
       "27         79.32.208.100  \n",
       "28        109.156.217.55  \n",
       "29          72.39.114.18  \n",
       "...                  ...  \n",
       "1546100    81.98.229.156  \n",
       "1546101    71.46.243.155  \n",
       "1546102    62.44.134.162  \n",
       "1546103    71.46.243.155  \n",
       "1546104    71.46.243.155  \n",
       "1546105   72.224.229.138  \n",
       "1546106    71.46.243.155  \n",
       "1546107    185.6.173.122  \n",
       "1546108     66.69.55.202  \n",
       "1546109     76.110.34.78  \n",
       "1546110    71.46.243.155  \n",
       "1546111    62.44.134.162  \n",
       "1546112    41.79.188.114  \n",
       "1546113    107.77.236.41  \n",
       "1546114   24.166.113.194  \n",
       "1546115    77.164.223.93  \n",
       "1546116    71.46.243.155  \n",
       "1546117     66.69.55.202  \n",
       "1546118    107.77.236.41  \n",
       "1546119   72.224.229.138  \n",
       "1546120   24.135.150.189  \n",
       "1546121    71.46.243.155  \n",
       "1546122    62.44.134.162  \n",
       "1546123      24.156.38.4  \n",
       "1546124     41.77.205.97  \n",
       "1546125   72.224.229.138  \n",
       "1546126    190.98.67.113  \n",
       "1546127    62.44.134.162  \n",
       "1546128    73.184.79.128  \n",
       "1546129     90.152.3.234  \n",
       "\n",
       "[1546130 rows x 4 columns]"
      ]
     },
     "execution_count": 70,
     "metadata": {},
     "output_type": "execute_result"
    }
   ],
   "source": [
    "df"
   ]
  },
  {
   "cell_type": "code",
   "execution_count": 136,
   "metadata": {
    "collapsed": false
   },
   "outputs": [
    {
     "data": {
      "text/plain": [
       "(417713, 4)"
      ]
     },
     "execution_count": 136,
     "metadata": {},
     "output_type": "execute_result"
    }
   ],
   "source": [
    "df2=df[df['properties__url'].str.match('https://app.viddyoze.com/member/templates/category')]\n",
    "df2.shape"
   ]
  },
  {
   "cell_type": "code",
   "execution_count": 123,
   "metadata": {
    "collapsed": false
   },
   "outputs": [
    {
     "data": {
      "text/plain": [
       "(1545904, 4)"
      ]
     },
     "execution_count": 123,
     "metadata": {},
     "output_type": "execute_result"
    }
   ],
   "source": [
    "df1=df[df['properties__url'].str.match('https://app.viddyoze.com/')]\n",
    "df1.shape"
   ]
  },
  {
   "cell_type": "code",
   "execution_count": 137,
   "metadata": {
    "collapsed": false
   },
   "outputs": [],
   "source": [
    "\n",
    "df1\n",
    "#df1.to_csv('df1.csv', index=False, header=None)\n",
    "df2.to_csv('df2.csv', index=False, header=None)\n",
    "#df3.to_csv('df3.csv', index=False, header=None)\n",
    "#df4.to_csv('df4.csv', index=False, header=None)"
   ]
  },
  {
   "cell_type": "code",
   "execution_count": 128,
   "metadata": {
    "collapsed": false
   },
   "outputs": [
    {
     "data": {
      "text/plain": [
       "(33380, 4)"
      ]
     },
     "execution_count": 128,
     "metadata": {},
     "output_type": "execute_result"
    }
   ],
   "source": [
    "df6=df[df['properties__url'].str.match('https://app.viddyoze.com/users/sign_in')]\n",
    "\n",
    "df6.shape"
   ]
  },
  {
   "cell_type": "code",
   "execution_count": 126,
   "metadata": {
    "collapsed": false
   },
   "outputs": [
    {
     "data": {
      "text/plain": [
       "(10451, 4)"
      ]
     },
     "execution_count": 126,
     "metadata": {},
     "output_type": "execute_result"
    }
   ],
   "source": [
    "df4=df[df['properties__url'].str.contains('download')]\n",
    "\n",
    "df4.shape"
   ]
  },
  {
   "cell_type": "code",
   "execution_count": 125,
   "metadata": {
    "collapsed": false
   },
   "outputs": [
    {
     "data": {
      "text/plain": [
       "(13568, 4)"
      ]
     },
     "execution_count": 125,
     "metadata": {},
     "output_type": "execute_result"
    }
   ],
   "source": [
    "df3=df[df['properties__url'].str.contains('rendering')]\n",
    "\n",
    "df3.shape"
   ]
  },
  {
   "cell_type": "code",
   "execution_count": 127,
   "metadata": {
    "collapsed": false
   },
   "outputs": [
    {
     "data": {
      "text/plain": [
       "(6224, 4)"
      ]
     },
     "execution_count": 127,
     "metadata": {},
     "output_type": "execute_result"
    }
   ],
   "source": [
    "df5=df[df['properties__url'].str.contains('https://app.viddyoze.com/purchase')]\n",
    "\n",
    "df5.shape"
   ]
  },
  {
   "cell_type": "code",
   "execution_count": 59,
   "metadata": {
    "collapsed": false
   },
   "outputs": [
    {
     "data": {
      "text/plain": [
       "Segment.io        3018769\n",
       "Facebook Pixel    2111309\n",
       "Name: value, dtype: int64"
      ]
     },
     "execution_count": 59,
     "metadata": {},
     "output_type": "execute_result"
    }
   ],
   "source": [
    "e = data1['value'].unique()\n",
    "result['value'].value_counts()\n",
    "\n",
    "#obj2 = pd['value'][0].value_counts\n",
    "#obj2\n",
    "#outcome = obj2.value_counts\n",
    "#outcome\n",
    "#obj2\n",
    "#e"
   ]
  },
  {
   "cell_type": "code",
   "execution_count": 69,
   "metadata": {
    "collapsed": false
   },
   "outputs": [],
   "source": [
    "time_counts= result['_sdc_batched_at'].value_counts()\n"
   ]
  },
  {
   "cell_type": "code",
   "execution_count": 66,
   "metadata": {
    "collapsed": false
   },
   "outputs": [
    {
     "data": {
      "text/plain": [
       "Index(['_sdc_batched_at', '_sdc_level_0_id', '_sdc_received_at',\n",
       "       '_sdc_sequence', '_sdc_source_key_message_id', '_sdc_table_version',\n",
       "       'value', '_BATCH_ID_', '_BATCH_LAST_RUN_'],\n",
       "      dtype='object')"
      ]
     },
     "execution_count": 66,
     "metadata": {},
     "output_type": "execute_result"
    }
   ],
   "source": [
    "original_colnames1 = result.columns\n",
    "original_colnames1"
   ]
  },
  {
   "cell_type": "code",
   "execution_count": 43,
   "metadata": {
    "collapsed": false
   },
   "outputs": [
    {
     "data": {
      "text/plain": [
       "array(['Facebook Pixel', 'Segment.io'], dtype=object)"
      ]
     },
     "execution_count": 43,
     "metadata": {},
     "output_type": "execute_result"
    }
   ],
   "source": [
    "objects1= []\n",
    "objects1"
   ]
  },
  {
   "cell_type": "code",
   "execution_count": 58,
   "metadata": {
    "collapsed": false
   },
   "outputs": [
    {
     "data": {
      "image/png": "[encoded data removed]",
      "text/plain": [
       "<matplotlib.figure.Figure at 0x1f2866600f0>"
      ]
     },
     "metadata": {},
     "output_type": "display_data"
    }
   ],
   "source": [
    "#graph\n",
    "\n",
    "import matplotlib.pyplot as plt; plt.rcdefaults()\n",
    "import numpy as np\n",
    "import matplotlib.pyplot as plt\n",
    "\n",
    "\n",
    "objects = ('Facebook Pixel', 'Segment.io')\n",
    "y_pos = np.arange(len(objects1))\n",
    "performance = [1081230,1546130]\n",
    " \n",
    "plt.bar(y_pos, performance, align='center', alpha=0.5)\n",
    "plt.xticks(y_pos, objects)\n",
    "plt.ylabel('type')\n",
    "plt.title('distribution of type')\n",
    " \n",
    "plt.show()\n"
   ]
  },
  {
   "cell_type": "code",
   "execution_count": 13,
   "metadata": {
    "collapsed": false
   },
   "outputs": [],
   "source": [
    "import pandas as pd\n",
    "df = df.drop(['name'], axis = 1, inplace = True)\n",
    "df\n"
   ]
  },
  {
   "cell_type": "code",
   "execution_count": null,
   "metadata": {
    "collapsed": true
   },
   "outputs": [],
   "source": []
  },
  {
   "cell_type": "code",
   "execution_count": 28,
   "metadata": {
    "collapsed": false
   },
   "outputs": [
    {
     "data": {
      "text/plain": [
       "Index(['_sdc_batched_at', '_sdc_level_0_id', '_sdc_received_at',\n",
       "       '_sdc_sequence', '_sdc_source_key_message_id', '_sdc_table_version',\n",
       "       'value', '_BATCH_ID_', '_BATCH_LAST_RUN_'],\n",
       "      dtype='object')"
      ]
     },
     "execution_count": 28,
     "metadata": {},
     "output_type": "execute_result"
    }
   ],
   "source": [
    "original_colnames1 = data1.columns\n",
    "original_colnames1"
   ]
  },
  {
   "cell_type": "code",
   "execution_count": 29,
   "metadata": {
    "collapsed": false
   },
   "outputs": [
    {
     "data": {
      "text/plain": [
       "Index(['_sdc_batched_at', '_sdc_level_0_id', '_sdc_received_at',\n",
       "       '_sdc_sequence', '_sdc_source_key_message_id', '_sdc_table_version',\n",
       "       'value', '_BATCH_ID_', '_BATCH_LAST_RUN_'],\n",
       "      dtype='object')"
      ]
     },
     "execution_count": 29,
     "metadata": {},
     "output_type": "execute_result"
    }
   ],
   "source": [
    "original_colnames3 = data3.columns\n",
    "original_colnames3"
   ]
  },
  {
   "cell_type": "code",
   "execution_count": 34,
   "metadata": {
    "collapsed": false
   },
   "outputs": [
    {
     "data": {
      "text/plain": [
       "(5130078, 9)"
      ]
     },
     "execution_count": 34,
     "metadata": {},
     "output_type": "execute_result"
    }
   ],
   "source": [
    "frames = [data1, data3]\n",
    "result = pd.concat(frames)\n",
    "result.drop_duplicates(['_sdc_batched_at', '_sdc_level_0_id', '_sdc_received_at',\n",
    "       '_sdc_sequence', '_sdc_source_key_message_id', '_sdc_table_version',\n",
    "       'value', '_BATCH_ID_', '_BATCH_LAST_RUN_'], keep= False)\n",
    "result.shape"
   ]
  },
  {
   "cell_type": "code",
   "execution_count": 37,
   "metadata": {
    "collapsed": false
   },
   "outputs": [
    {
     "data": {
      "text/plain": [
       "(5130078, 9)"
      ]
     },
     "execution_count": 37,
     "metadata": {},
     "output_type": "execute_result"
    }
   ],
   "source": [
    "frames1 = [data1,data3]\n",
    "result1 = pd.concat(frames1)\n",
    "result1.shape"
   ]
  },
  {
   "cell_type": "code",
   "execution_count": 38,
   "metadata": {
    "collapsed": false
   },
   "outputs": [
    {
     "data": {
      "text/html": [
       "<div>\n",
       "<table border=\"1\" class=\"dataframe\">\n",
       "  <thead>\n",
       "    <tr style=\"text-align: right;\">\n",
       "      <th></th>\n",
       "      <th>_sdc_level_0_id</th>\n",
       "      <th>_sdc_sequence</th>\n",
       "      <th>_sdc_table_version</th>\n",
       "      <th>_BATCH_ID_</th>\n",
       "    </tr>\n",
       "  </thead>\n",
       "  <tbody>\n",
       "    <tr>\n",
       "      <th>count</th>\n",
       "      <td>5.130078e+06</td>\n",
       "      <td>5.130078e+06</td>\n",
       "      <td>5130078.0</td>\n",
       "      <td>5130078.0</td>\n",
       "    </tr>\n",
       "    <tr>\n",
       "      <th>mean</th>\n",
       "      <td>4.115550e-01</td>\n",
       "      <td>1.514152e+12</td>\n",
       "      <td>0.0</td>\n",
       "      <td>50.0</td>\n",
       "    </tr>\n",
       "    <tr>\n",
       "      <th>std</th>\n",
       "      <td>4.921154e-01</td>\n",
       "      <td>1.635241e+09</td>\n",
       "      <td>0.0</td>\n",
       "      <td>0.0</td>\n",
       "    </tr>\n",
       "    <tr>\n",
       "      <th>min</th>\n",
       "      <td>0.000000e+00</td>\n",
       "      <td>1.511533e+12</td>\n",
       "      <td>0.0</td>\n",
       "      <td>50.0</td>\n",
       "    </tr>\n",
       "    <tr>\n",
       "      <th>25%</th>\n",
       "      <td>0.000000e+00</td>\n",
       "      <td>1.512886e+12</td>\n",
       "      <td>0.0</td>\n",
       "      <td>50.0</td>\n",
       "    </tr>\n",
       "    <tr>\n",
       "      <th>50%</th>\n",
       "      <td>0.000000e+00</td>\n",
       "      <td>1.513886e+12</td>\n",
       "      <td>0.0</td>\n",
       "      <td>50.0</td>\n",
       "    </tr>\n",
       "    <tr>\n",
       "      <th>75%</th>\n",
       "      <td>1.000000e+00</td>\n",
       "      <td>1.515369e+12</td>\n",
       "      <td>0.0</td>\n",
       "      <td>50.0</td>\n",
       "    </tr>\n",
       "    <tr>\n",
       "      <th>max</th>\n",
       "      <td>1.000000e+00</td>\n",
       "      <td>1.517845e+12</td>\n",
       "      <td>0.0</td>\n",
       "      <td>50.0</td>\n",
       "    </tr>\n",
       "  </tbody>\n",
       "</table>\n",
       "</div>"
      ],
      "text/plain": [
       "       _sdc_level_0_id  _sdc_sequence  _sdc_table_version  _BATCH_ID_\n",
       "count     5.130078e+06   5.130078e+06           5130078.0   5130078.0\n",
       "mean      4.115550e-01   1.514152e+12                 0.0        50.0\n",
       "std       4.921154e-01   1.635241e+09                 0.0         0.0\n",
       "min       0.000000e+00   1.511533e+12                 0.0        50.0\n",
       "25%       0.000000e+00   1.512886e+12                 0.0        50.0\n",
       "50%       0.000000e+00   1.513886e+12                 0.0        50.0\n",
       "75%       1.000000e+00   1.515369e+12                 0.0        50.0\n",
       "max       1.000000e+00   1.517845e+12                 0.0        50.0"
      ]
     },
     "execution_count": 38,
     "metadata": {},
     "output_type": "execute_result"
    }
   ],
   "source": [
    "result.describe()"
   ]
  },
  {
   "cell_type": "code",
   "execution_count": null,
   "metadata": {
    "collapsed": true
   },
   "outputs": [],
   "source": []
  },
  {
   "cell_type": "code",
   "execution_count": null,
   "metadata": {
    "collapsed": true
   },
   "outputs": [],
   "source": []
  },
  {
   "cell_type": "code",
   "execution_count": null,
   "metadata": {
    "collapsed": true
   },
   "outputs": [],
   "source": []
  },
  {
   "cell_type": "code",
   "execution_count": null,
   "metadata": {
    "collapsed": true
   },
   "outputs": [],
   "source": []
  }
 ],
 "metadata": {
  "anaconda-cloud": {},
  "kernelspec": {
   "display_name": "Python [default]",
   "language": "python",
   "name": "python3"
  },
  "language_info": {
   "codemirror_mode": {
    "name": "ipython",
    "version": 3
   },
   "file_extension": ".py",
   "mimetype": "text/x-python",
   "name": "python",
   "nbconvert_exporter": "python",
   "pygments_lexer": "ipython3",
   "version": "3.5.2"
  }
 },
 "nbformat": 4,
 "nbformat_minor": 2
}
